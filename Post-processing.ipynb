{
 "cells": [
  {
   "cell_type": "markdown",
   "metadata": {},
   "source": [
    "### 验证结果是否符合规定格式"
   ]
  },
  {
   "cell_type": "code",
   "execution_count": null,
   "metadata": {},
   "outputs": [],
   "source": [
    "import json\n",
    "import re\n",
    "import os\n",
    "current_dir = os.path.dirname(os.path.abspath(__file__))\n",
    "os.chdir(current_dir)\n",
    "\n",
    "# 中文数据的树结构和三元组关系集合\n",
    "node_list = [\"CDCDD\",\"CDD\",\"CCDDD\",\"CDCDCDD\",\"CCDCDDD\",\"CDCDCDCDD\",\"CCDDCDD\"]\n",
    "relation_list = [\"临床表现\",\"治疗药物\",\"治疗方案\",\"用法用量\",\"禁用药物\",\"基本情况\"]\n",
    "# 英文数据的树结构和三元组关系集合\n",
    "en_node_list = [\"CDCDD\",\"CDD\",\"CCDDD\",\"CDCDCDD\",\"CCDCDDD\",\"CDCDCDCDD\",\"CCDDCDD\"]\n",
    "en_relation_list = [\"clinical manifestation\",\"drug therapy\",\"therapeutic schedule\",\"dosage and administration\",\"basic condition\",\"prohibited drugs\"]\n",
    "\n",
    "with open(\"Result/chatgpt/en_DT第1次_knn=2.json\", 'r') as f:\n",
    "    examples = json.load(f)\n",
    "save_path = \"Result/chatgpt/save_result.json\"\n",
    "\n",
    "node_c = {\"role\": \"C\",\"triples\": [],\"logical_rel\": \"null\"}\n",
    "node_d = {\"role\": \"D\",\"triples\": [],\"logical_rel\": \"null\"}\n",
    "role_list = [\"C\",\"D\"]\n",
    "logical_list = [\"and\",\"or\",\"null\"]"
   ]
  },
  {
   "cell_type": "code",
   "execution_count": 3,
   "metadata": {},
   "outputs": [],
   "source": [
    "import json\n",
    "tree_none = []\n",
    "tree_none.append(node_c)\n",
    "tree_none.append(node_d)\n",
    "tree_none.append(node_d)\n",
    "\n",
    "save_list = []\n",
    "for idx in range(0,len(examples)):\n",
    "    save_dict = {}\n",
    "    C_num = 0\n",
    "    D_num = 0\n",
    "\n",
    "    data = examples[idx]\n",
    "    text = data[\"text\"]\n",
    "    save_dict[\"text\"] = text\n",
    "    tree_list = data[\"tree\"]\n",
    "    structure = \"\"\n",
    "    for tree in tree_list:\n",
    "        role = tree[\"role\"]\n",
    "        if tree[\"role\"] == \"C\":\n",
    "            C_num += 1\n",
    "        if tree[\"role\"] == \"D\":\n",
    "            D_num += 1\n",
    "        structure += role\n",
    "        # 判断role是否标准\n",
    "        if role not in role_list:\n",
    "            print(idx)\n",
    "            print(\"-----\")\n",
    "            print(role)\n",
    "        triple_list = tree[\"triples\"]\n",
    "        for triple in triple_list:\n",
    "            relation = triple[1]\n",
    "            # 判断三元组之间的关系是否标准\n",
    "            if relation not in en_relation_list:\n",
    "                print(idx)\n",
    "                print(\"====\")\n",
    "                print(relation)\n",
    "        # 判断逻辑规则是否标准\n",
    "        logical = tree[\"logical_rel\"]\n",
    "        if logical not in logical_list:\n",
    "            print(idx)\n",
    "            print(\"****\")\n",
    "            print(logical)\n",
    "    if C_num == D_num:\n",
    "        tree_list.append(node_d)\n",
    "        structure += \"D\"\n",
    "    save_dict[\"tree\"] = tree_list\n",
    "    \n",
    "    # 判断结构是否标准\n",
    "    if structure not in en_node_list:\n",
    "        print(idx)\n",
    "        print(structure)\n",
    "    save_list.append(save_dict)\n",
    "with open(save_path, 'w') as f:\n",
    "    json.dump(save_list, f, ensure_ascii=False, indent=2)"
   ]
  }
 ],
 "metadata": {
  "kernelspec": {
   "display_name": "text2dt",
   "language": "python",
   "name": "python3"
  },
  "language_info": {
   "codemirror_mode": {
    "name": "ipython",
    "version": 3
   },
   "file_extension": ".py",
   "mimetype": "text/x-python",
   "name": "python",
   "nbconvert_exporter": "python",
   "pygments_lexer": "ipython3",
   "version": "3.10.15"
  },
  "orig_nbformat": 4
 },
 "nbformat": 4,
 "nbformat_minor": 2
}
